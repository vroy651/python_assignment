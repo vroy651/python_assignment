{
 "cells": [
  {
   "cell_type": "markdown",
   "id": "20d36f92-81d1-4c9c-813a-cc5130f8d1ab",
   "metadata": {},
   "source": [
    " Ans1->  We use for loop in the case of when we need to iterate over a iterable , for example:we are given a list of name and            we want to print all name then we use for loop in this case.\n",
    "         While loop use where we are given some condition  not iterable for example if we asked from user to enter the password \n",
    "         if he/she entered wrong password continously ,untill and unless they would not enter correct password program will              asked them for coorect password.\n",
    "         \n"
   ]
  },
  {
   "cell_type": "code",
   "execution_count": null,
   "id": "cd940c87-6d02-4d85-9150-a7c0f70af50d",
   "metadata": {},
   "outputs": [],
   "source": [
    " # ans -2 code for sum and product for 10 naturals number\n",
    "\n",
    "#using for loop\n",
    "sum_,product=0,1\n",
    "\n",
    "for i in range(1,11):\n",
    "    sum_+=i\n",
    "    product=product*i\n",
    "print(\"sum of first 10 natural number:\",sum_)\n",
    "print(\"product of first 10 natural number:\",product)\n"
   ]
  },
  {
   "cell_type": "code",
   "execution_count": null,
   "id": "700310fa-503a-4c12-8071-1679f2961413",
   "metadata": {},
   "outputs": [],
   "source": [
    "#Q3. Create a python program to compute the electricity bill for a household.\n",
    "\n",
    "Q4. Create a list of numbers from 1 to 100. Use for loop and while loop to calculate the cube of each\n",
    "number and if the cube of that number is divisible by 4 or 5 then append that number in a list and print\n",
    "that list.\n",
    "The per-unit charges in rupees are as follows: For the first 100 units, the user will be charged Rs. 4.5 per\n",
    "unit, for the next 100 units, the user will be charged Rs. 6 per unit, and for the next 100 units, the user will\n",
    "be charged Rs. 10 per unit, After 300 units and above the user will be charged Rs. 20 per unit."
   ]
  },
  {
   "cell_type": "code",
   "execution_count": 9,
   "id": "0c18b132-14fb-4f63-a338-baae89f87b5b",
   "metadata": {},
   "outputs": [
    {
     "name": "stdin",
     "output_type": "stream",
     "text": [
      "enter the monthly units: 99\n"
     ]
    },
    {
     "name": "stdout",
     "output_type": "stream",
     "text": [
      "445.5\n"
     ]
    }
   ],
   "source": [
    "## Ans -3\n",
    "\n",
    "## put the units consume by the person\n",
    "units=int(input(\"enter the monthly units:\"))\n",
    "\n",
    "# when units in the range of 1 to 101\n",
    "charged=0\n",
    "if units>0 and units<101:\n",
    "    charged=4.5*units\n",
    "    print(charged)\n",
    "\n",
    "# above 100 and below 201\n",
    "elif units>100 and units<201:\n",
    "    charged=6*units\n",
    "    print(charged)\n",
    "# above 200 and below 301\n",
    "elif units>200 and units<301:\n",
    "    charged=10*units\n",
    "    print(charged)\n",
    "else:\n",
    "    charged=20*units\n",
    "    print(charged)"
   ]
  },
  {
   "cell_type": "code",
   "execution_count": 6,
   "id": "d99f0807-6c27-4de9-ac33-27b68b3b554b",
   "metadata": {},
   "outputs": [
    {
     "name": "stdout",
     "output_type": "stream",
     "text": [
      "2\n",
      "4\n",
      "5\n",
      "6\n",
      "8\n",
      "10\n",
      "12\n",
      "14\n",
      "15\n",
      "16\n",
      "18\n",
      "20\n",
      "22\n",
      "24\n",
      "25\n",
      "26\n",
      "28\n",
      "30\n",
      "32\n",
      "34\n",
      "35\n",
      "36\n",
      "38\n",
      "40\n",
      "42\n",
      "44\n",
      "45\n",
      "46\n",
      "48\n",
      "50\n",
      "52\n",
      "54\n",
      "55\n",
      "56\n",
      "58\n",
      "60\n",
      "62\n",
      "64\n",
      "65\n",
      "66\n",
      "68\n",
      "70\n",
      "72\n",
      "74\n",
      "75\n",
      "76\n",
      "78\n",
      "80\n",
      "82\n",
      "84\n",
      "85\n",
      "86\n",
      "88\n",
      "90\n",
      "92\n",
      "94\n",
      "95\n",
      "96\n",
      "98\n",
      "100\n"
     ]
    }
   ],
   "source": [
    "## Ans-4\n",
    "list =[]\n",
    "for i in range(1,101):\n",
    "    cube=i**3\n",
    "    if cube%4==0 or cube%5==0:\n",
    "        list.append(i)\n",
    "for i in list:\n",
    "    print(i)\n",
    "\n",
    "    "
   ]
  },
  {
   "cell_type": "code",
   "execution_count": 31,
   "id": "cb8828f1-aff3-46f7-bf58-fcddb0bd2513",
   "metadata": {},
   "outputs": [
    {
     "name": "stdout",
     "output_type": "stream",
     "text": [
      " number of vowels present in s: 12\n"
     ]
    }
   ],
   "source": [
    "# Ans-5\n",
    "s=\"I want to become a data scientist\"\n",
    "vowels=\"aeiouAEIOU\"\n",
    "count=0\n",
    "\n",
    "for ch in s:\n",
    "    if ch in vowels:\n",
    "        count+=1\n",
    "        \n",
    "print(\" number of vowels present in s:\",count)\n"
   ]
  },
  {
   "cell_type": "code",
   "execution_count": null,
   "id": "c47212aa-200c-4e15-8b9e-e6810915ae52",
   "metadata": {},
   "outputs": [],
   "source": []
  }
 ],
 "metadata": {
  "kernelspec": {
   "display_name": "Python 3 (ipykernel)",
   "language": "python",
   "name": "python3"
  },
  "language_info": {
   "codemirror_mode": {
    "name": "ipython",
    "version": 3
   },
   "file_extension": ".py",
   "mimetype": "text/x-python",
   "name": "python",
   "nbconvert_exporter": "python",
   "pygments_lexer": "ipython3",
   "version": "3.10.8"
  }
 },
 "nbformat": 4,
 "nbformat_minor": 5
}
